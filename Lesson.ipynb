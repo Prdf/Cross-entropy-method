{
 "cells": [
  {
   "cell_type": "markdown",
   "metadata": {},
   "source": [
    "# Cross-Entropy Method"
   ]
  },
  {
   "cell_type": "markdown",
   "metadata": {},
   "source": [
    "Créée en 1997 par Reuven Rubenstein, la <b>méthode de l'entropie croisée</b> est une métohde de type Monte-Carlo pour la <b>simulation d'évènements rares</b> et peut être appliquée à des problèmes d'optimisation tels que le <b>Traveling Salesman</b> ou le problème du <b>MAX-CUT</b>"
   ]
  },
  {
   "cell_type": "markdown",
   "metadata": {},
   "source": [
    "## Applications"
   ]
  },
  {
   "cell_type": "markdown",
   "metadata": {},
   "source": [
    "La méthode a d'abord été construite afin de répondre à des problèmes d'estimation de probabilités rares comme dans des cas d'estimations de fiabilité, l'analyse de performances de systèmes de télécommunication puis a été utilisée pour des problèmes d'optimisation en transformant le problème déterministe en problème stochastique.  "
   ]
  },
  {
   "cell_type": "markdown",
   "metadata": {},
   "source": [
    "Etant une méthode basée sur des processus aléatoires, elle se rapporche de méthodes d'optimisation telles que le recuit simulé ou les algorithmes génétiques"
   ]
  },
  {
   "cell_type": "markdown",
   "metadata": {},
   "source": [
    "## Présentation générale"
   ]
  },
  {
   "cell_type": "markdown",
   "metadata": {},
   "source": [
    "### Idée"
   ]
  },
  {
   "cell_type": "markdown",
   "metadata": {},
   "source": [
    "La méthode est itérative sur deux phases : <br> 1. Génération d'un échantillon de données aléatoires selon un mécanisme spécifique <br> 2. Actualisation des paramatrès du mécanisme afin d'améliorer l'échantillon généré pour la génération suivante en minimisant l'entropie croisée"
   ]
  },
  {
   "cell_type": "markdown",
   "metadata": {},
   "source": [
    "L'entropie croisée est une notion issue de la théorie de l'information et est donnée par la formule suivante : $${H(p,q) = -\\int_X p(x)\\log q(x) \\, \\mathrm dx} $$ avec p et q des variables aléatoires continues"
   ]
  },
  {
   "cell_type": "markdown",
   "metadata": {},
   "source": [
    "### Pseudo code"
   ]
  },
  {
   "cell_type": "markdown",
   "metadata": {},
   "source": [
    "| Etape | Démarche   |\n",
    "|------|------|\n",
    "|   1  | Choisir un vecteur des paramètres initiaux $v^{(0)}$ et poser t=1|\n",
    "| 2 | Créer un échantillon de variables aléatoires $X_1,..,X_N$ selon la densité $f(\\bullet; v^{(t-1)})$   |\n",
    "|   3  | Calculer $v^{(t)}$ = $\\underset{v}{\\operatorname{argmax}} \\frac{1}{N}\\sum_{i=1}^N H(X_i) \\frac{f(X_i;u)}{f(X_i;v^{(t-1)})}\\log f(X_i;u)$|\n",
    "| 4 | Si on a convergé, arrêter l'itération   |\n"
   ]
  },
  {
   "cell_type": "markdown",
   "metadata": {},
   "source": [
    "## Exemple d'application"
   ]
  },
  {
   "cell_type": "markdown",
   "metadata": {},
   "source": [
    "### Optimisation combinatoire"
   ]
  },
  {
   "cell_type": "markdown",
   "metadata": {},
   "source": [
    "###  Probabilité d'un évènement rare"
   ]
  },
  {
   "cell_type": "code",
   "execution_count": null,
   "metadata": {},
   "outputs": [],
   "source": []
  }
 ],
 "metadata": {
  "kernelspec": {
   "display_name": "Python 3",
   "language": "python",
   "name": "python3"
  },
  "language_info": {
   "codemirror_mode": {
    "name": "ipython",
    "version": 3
   },
   "file_extension": ".py",
   "mimetype": "text/x-python",
   "name": "python",
   "nbconvert_exporter": "python",
   "pygments_lexer": "ipython3",
   "version": "3.7.0"
  }
 },
 "nbformat": 4,
 "nbformat_minor": 2
}
